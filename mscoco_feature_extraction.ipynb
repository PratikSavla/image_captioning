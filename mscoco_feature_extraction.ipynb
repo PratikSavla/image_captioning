{
  "nbformat": 4,
  "nbformat_minor": 0,
  "metadata": {
    "colab": {
      "name": "mscoco_feature_extraction.ipynb",
      "version": "0.3.2",
      "provenance": [],
      "collapsed_sections": []
    },
    "kernelspec": {
      "name": "python3",
      "display_name": "Python 3"
    },
    "accelerator": "GPU"
  },
  "cells": [
    {
      "metadata": {
        "id": "2rY0kAPCKo--",
        "colab_type": "code",
        "colab": {}
      },
      "cell_type": "code",
      "source": [
        "#!wget http://msvocds.blob.core.windows.net/coco2014/train2014.zip\n",
        "#!wget http://msvocds.blob.core.windows.net/annotations-1-0-3/instances_train-val2014.zip \n",
        "#!wget http://msvocds.blob.core.windows.net/annotations-1-0-3/captions_train-val2014.zip\n",
        "#!wget http://msvocds.blob.core.windows.net/annotations-1-0-4/image_info_test2014.zip\n",
        "#!wget http://msvocds.blob.core.windows.net/coco2014/val2014.zip"
      ],
      "execution_count": 0,
      "outputs": []
    },
    {
      "metadata": {
        "id": "--Tt-B4PFn4_",
        "colab_type": "code",
        "colab": {}
      },
      "cell_type": "code",
      "source": [
        "#!ls"
      ],
      "execution_count": 0,
      "outputs": []
    },
    {
      "metadata": {
        "id": "f4bUwUVvGryz",
        "colab_type": "code",
        "colab": {}
      },
      "cell_type": "code",
      "source": [
        "#!unzip image_info_test2014.zip\n",
        "#!unzip train2014.zip \n",
        "#!unzip val2014.zip\n",
        "#!unzip instances_train-val2014.zip\n",
        "#!unzip captions_train-val2014.zip"
      ],
      "execution_count": 0,
      "outputs": []
    },
    {
      "metadata": {
        "id": "jL-uBvEELrTc",
        "colab_type": "code",
        "colab": {}
      },
      "cell_type": "code",
      "source": [
        "!ls"
      ],
      "execution_count": 0,
      "outputs": []
    },
    {
      "metadata": {
        "id": "QTNul2V6S5vX",
        "colab_type": "code",
        "colab": {}
      },
      "cell_type": "code",
      "source": [
        "!pip install tqdm\n",
        "import glob\n",
        "from PIL import Image\n",
        "import numpy as np\n",
        "import matplotlib.pyplot as plt\n",
        "%matplotlib inline\n",
        "# from vgg16 import VGG16\n",
        "import pickle\n",
        "from tqdm import tqdm\n",
        "import pandas as pd\n",
        "from keras.preprocessing import sequence\n",
        "from keras.models import Sequential\n",
        "from keras.layers import LSTM, Embedding, TimeDistributed, Dense, RepeatVector, Merge, Activation, Flatten\n",
        "from keras.optimizers import Adam, RMSprop\n",
        "from keras.layers.wrappers import Bidirectional\n",
        "import json\n",
        "from keras.applications.inception_v3 import InceptionV3\n",
        "from keras.preprocessing import image"
      ],
      "execution_count": 0,
      "outputs": []
    },
    {
      "metadata": {
        "id": "eYPb-MBXS-ym",
        "colab_type": "code",
        "colab": {}
      },
      "cell_type": "code",
      "source": [
        "images = 'train2014/'\n",
        "# Contains all the images\n",
        "img = glob.glob(images+'*.jpg')\n",
        "img[:5]"
      ],
      "execution_count": 0,
      "outputs": []
    },
    {
      "metadata": {
        "id": "W-XSdkDHTFGf",
        "colab_type": "code",
        "colab": {}
      },
      "cell_type": "code",
      "source": [
        "len(img)"
      ],
      "execution_count": 0,
      "outputs": []
    },
    {
      "metadata": {
        "id": "bQ4pNI7HUj5z",
        "colab_type": "code",
        "colab": {}
      },
      "cell_type": "code",
      "source": [
        "def preprocess_input(x):\n",
        "    x /= 255.\n",
        "    x -= 0.5\n",
        "    x *= 2.\n",
        "    return x"
      ],
      "execution_count": 0,
      "outputs": []
    },
    {
      "metadata": {
        "id": "b6SFHARYUn1o",
        "colab_type": "code",
        "colab": {}
      },
      "cell_type": "code",
      "source": [
        "def preprocess(image_path):\n",
        "    img = image.load_img(image_path, target_size=(299, 299))\n",
        "    x = image.img_to_array(img)\n",
        "    x = np.expand_dims(x, axis=0)\n",
        "\n",
        "    x = preprocess_input(x)\n",
        "    return x"
      ],
      "execution_count": 0,
      "outputs": []
    },
    {
      "metadata": {
        "id": "JrJftWG0Useg",
        "colab_type": "code",
        "colab": {}
      },
      "cell_type": "code",
      "source": [
        "plt.imshow(np.squeeze(preprocess(img[0])))"
      ],
      "execution_count": 0,
      "outputs": []
    },
    {
      "metadata": {
        "id": "aZB92sR4UvEs",
        "colab_type": "code",
        "colab": {}
      },
      "cell_type": "code",
      "source": [
        "model = InceptionV3(weights='imagenet')"
      ],
      "execution_count": 0,
      "outputs": []
    },
    {
      "metadata": {
        "id": "YlpKGc42Uz_U",
        "colab_type": "code",
        "colab": {}
      },
      "cell_type": "code",
      "source": [
        "from keras.models import Model\n",
        "\n",
        "new_input = model.input\n",
        "hidden_layer = model.layers[-2].output\n",
        "\n",
        "model_new = Model(new_input, hidden_layer)\n",
        "\n",
        "model_new.summary()"
      ],
      "execution_count": 0,
      "outputs": []
    },
    {
      "metadata": {
        "id": "jE1yGQOaU32I",
        "colab_type": "code",
        "colab": {}
      },
      "cell_type": "code",
      "source": [
        "tryi = model_new.predict(preprocess(img[0]))"
      ],
      "execution_count": 0,
      "outputs": []
    },
    {
      "metadata": {
        "id": "1EwcXijgU7Hn",
        "colab_type": "code",
        "colab": {}
      },
      "cell_type": "code",
      "source": [
        "tryi.shape"
      ],
      "execution_count": 0,
      "outputs": []
    },
    {
      "metadata": {
        "id": "jeNg1Ob7U8eB",
        "colab_type": "code",
        "colab": {}
      },
      "cell_type": "code",
      "source": [
        "def encode(image):\n",
        "    image = preprocess(image)\n",
        "    temp_enc = model_new.predict(image)\n",
        "    temp_enc = np.reshape(temp_enc, temp_enc.shape[1])\n",
        "    return temp_enc"
      ],
      "execution_count": 0,
      "outputs": []
    },
    {
      "metadata": {
        "id": "QyTYOecLU-JE",
        "colab_type": "code",
        "colab": {}
      },
      "cell_type": "code",
      "source": [
        "encoding_train = {}\n",
        "for img in tqdm(img):\n",
        "    encoding_train[img[len(images):]] = encode(img)"
      ],
      "execution_count": 0,
      "outputs": []
    },
    {
      "metadata": {
        "id": "rBBMc3kYVCsc",
        "colab_type": "code",
        "colab": {}
      },
      "cell_type": "code",
      "source": [
        "with open(\"encoded_images_train_inceptionV3.p\", \"wb\") as encoded_pickle:\n",
        "    pickle.dump(encoding_train, encoded_pickle)"
      ],
      "execution_count": 0,
      "outputs": []
    },
    {
      "metadata": {
        "id": "80YhbeozVR0r",
        "colab_type": "code",
        "colab": {}
      },
      "cell_type": "code",
      "source": [
        "encoding_train = pickle.load(open('encoded_images_train_inceptionV3.p', 'rb'))"
      ],
      "execution_count": 0,
      "outputs": []
    },
    {
      "metadata": {
        "id": "ZVocplTu1McV",
        "colab_type": "code",
        "colab": {}
      },
      "cell_type": "code",
      "source": [
        "images = 'val2014/'\n",
        "# Contains all the images\n",
        "img = glob.glob(images+'*.jpg')\n",
        "img[:5]"
      ],
      "execution_count": 0,
      "outputs": []
    },
    {
      "metadata": {
        "id": "F-CcVzVCnYms",
        "colab_type": "code",
        "colab": {}
      },
      "cell_type": "code",
      "source": [
        "encoding_val = {}\n",
        "for img in tqdm(img):\n",
        "    encoding_val[img[len(images):]] = encode(img)"
      ],
      "execution_count": 0,
      "outputs": []
    },
    {
      "metadata": {
        "id": "aVjyql9j1A19",
        "colab_type": "code",
        "colab": {}
      },
      "cell_type": "code",
      "source": [
        "with open(\"encoded_images_val_inceptionV3.p\", \"wb\") as encoded_pickle:\n",
        "    pickle.dump(encoding_val, encoded_pickle)"
      ],
      "execution_count": 0,
      "outputs": []
    },
    {
      "metadata": {
        "id": "P7YjnNSZ1YeK",
        "colab_type": "code",
        "colab": {}
      },
      "cell_type": "code",
      "source": [
        "#encoding_val = pickle.load(open('encoded_images_val_inceptionV3.p', 'rb'))"
      ],
      "execution_count": 0,
      "outputs": []
    },
    {
      "metadata": {
        "id": "1OqGwOCzVZCF",
        "colab_type": "code",
        "colab": {}
      },
      "cell_type": "code",
      "source": [
        "#from google.colab import files\n",
        "#files.download('encoded_images_train_inceptionV3.p')\n",
        "#files.download('encoded_images_val_inceptionV3.p')"
      ],
      "execution_count": 0,
      "outputs": []
    },
    {
      "metadata": {
        "id": "-GjQGO4WnEnN",
        "colab_type": "code",
        "colab": {}
      },
      "cell_type": "code",
      "source": [
        "#!ls\n",
        "token = 'annotations/captions_train2014.json'"
      ],
      "execution_count": 0,
      "outputs": []
    },
    {
      "metadata": {
        "id": "1HYsnthwtiXL",
        "colab_type": "code",
        "colab": {}
      },
      "cell_type": "code",
      "source": [
        "json_data = open(token)"
      ],
      "execution_count": 0,
      "outputs": []
    },
    {
      "metadata": {
        "id": "aq7D2K-itiap",
        "colab_type": "code",
        "colab": {}
      },
      "cell_type": "code",
      "source": [
        "captions = json.load(json_data)\n",
        "for i, val in enumerate(captions['annotations']):\n",
        "    if i<10:\n",
        "        print (val)"
      ],
      "execution_count": 0,
      "outputs": []
    },
    {
      "metadata": {
        "id": "x-dBDGWBtieW",
        "colab_type": "code",
        "colab": {}
      },
      "cell_type": "code",
      "source": [
        "for i, val in enumerate(captions['images']):\n",
        "    if i<2:\n",
        "        print (val)"
      ],
      "execution_count": 0,
      "outputs": []
    },
    {
      "metadata": {
        "id": "YLpYB17_uD4K",
        "colab_type": "text"
      },
      "cell_type": "markdown",
      "source": [
        "Creating a dictionary containing all the captions of the images"
      ]
    },
    {
      "metadata": {
        "id": "qP8qbp6Gt_gD",
        "colab_type": "code",
        "colab": {}
      },
      "cell_type": "code",
      "source": [
        "images = 'train2014/'\n",
        "img = glob.glob(images+'*.jpg')\n",
        "img[:5]"
      ],
      "execution_count": 0,
      "outputs": []
    },
    {
      "metadata": {
        "id": "cznt-KqhuWQl",
        "colab_type": "code",
        "colab": {}
      },
      "cell_type": "code",
      "source": [
        "image2id = {}\n",
        "\n",
        "for i, val in enumerate(captions['images']):\n",
        "    image2id[val['id']] = val['file_name']"
      ],
      "execution_count": 0,
      "outputs": []
    },
    {
      "metadata": {
        "id": "Tt-Yz2ykuXhC",
        "colab_type": "code",
        "colab": {}
      },
      "cell_type": "code",
      "source": [
        "id2captions = {}\n",
        "\n",
        "for i, val in enumerate(captions['annotations']):\n",
        "    id2captions[val['image_id']] = val['caption']"
      ],
      "execution_count": 0,
      "outputs": []
    },
    {
      "metadata": {
        "id": "LgwauVuAuXkA",
        "colab_type": "code",
        "colab": {}
      },
      "cell_type": "code",
      "source": [
        "image2caption = {}\n",
        "for key, val in id2captions.items():\n",
        "    image2caption[image2id[key]] = val"
      ],
      "execution_count": 0,
      "outputs": []
    },
    {
      "metadata": {
        "id": "SAxg5PDeuXns",
        "colab_type": "code",
        "colab": {}
      },
      "cell_type": "code",
      "source": [
        "len(image2caption)"
      ],
      "execution_count": 0,
      "outputs": []
    },
    {
      "metadata": {
        "id": "nAwj9ro8uXru",
        "colab_type": "code",
        "colab": {}
      },
      "cell_type": "code",
      "source": [
        "image2caption['COCO_train2014_000000522971.jpg']"
      ],
      "execution_count": 0,
      "outputs": []
    },
    {
      "metadata": {
        "id": "LaBcJSIVt_ch",
        "colab_type": "code",
        "colab": {}
      },
      "cell_type": "code",
      "source": [
        "Image.open(img[0])"
      ],
      "execution_count": 0,
      "outputs": []
    },
    {
      "metadata": {
        "id": "vTvGgOHkufQx",
        "colab_type": "code",
        "colab": {}
      },
      "cell_type": "code",
      "source": [
        "caps = []\n",
        "for key, val in image2caption.items():\n",
        "    caps.append(' '.join(list(val.split())))\n",
        "    \n",
        "caps[:5]"
      ],
      "execution_count": 0,
      "outputs": []
    },
    {
      "metadata": {
        "id": "RWUSZt9Qu44t",
        "colab_type": "code",
        "colab": {}
      },
      "cell_type": "code",
      "source": [
        "words = [i.split() for i in caps]\n",
        "unique = []\n",
        "for i in words:\n",
        "    unique.extend(i)\n",
        "unique.extend(\"<start>\".split())\n",
        "unique.extend(\"<end>\".split())\n",
        "unique.extend(\"<unk>\".split())"
      ],
      "execution_count": 0,
      "outputs": []
    },
    {
      "metadata": {
        "id": "JjJ0lv6hufT_",
        "colab_type": "code",
        "colab": {}
      },
      "cell_type": "code",
      "source": [
        "unique = list(set(unique))\n",
        "# with open(\"unique.p\", \"wb\") as pickle_d:\n",
        "#     pickle.dump(unique, pickle_d) \n",
        "len(unique)"
      ],
      "execution_count": 0,
      "outputs": []
    },
    {
      "metadata": {
        "id": "AspcMEsdufax",
        "colab_type": "code",
        "colab": {}
      },
      "cell_type": "code",
      "source": [
        "word2idx = {val:index for index, val in enumerate(unique)}\n",
        "word2idx['<start>']\n"
      ],
      "execution_count": 0,
      "outputs": []
    },
    {
      "metadata": {
        "id": "hw-PXMcLzywl",
        "colab_type": "code",
        "colab": {}
      },
      "cell_type": "code",
      "source": [
        "idx2word = {index:val for index, val in enumerate(unique)}\n",
        "idx2word[5303]"
      ],
      "execution_count": 0,
      "outputs": []
    },
    {
      "metadata": {
        "id": "xvLXUXu3xIAN",
        "colab_type": "code",
        "colab": {}
      },
      "cell_type": "code",
      "source": [
        "max_len = 0\n",
        "for c in caps:\n",
        "    c = c.split()\n",
        "    if len(c) > max_len:\n",
        "        max_len = len(c)\n",
        "max_len"
      ],
      "execution_count": 0,
      "outputs": []
    },
    {
      "metadata": {
        "id": "pXwypaDNxILW",
        "colab_type": "code",
        "colab": {}
      },
      "cell_type": "code",
      "source": [
        "vocab_size = len(unique)"
      ],
      "execution_count": 0,
      "outputs": []
    },
    {
      "metadata": {
        "id": "acCKbXBUxIO5",
        "colab_type": "code",
        "colab": {}
      },
      "cell_type": "code",
      "source": [
        "f = open('mscoco_training_dataset.txt', 'w')\n",
        "f.write(\"image_id\\tcaptions\\n\")"
      ],
      "execution_count": 0,
      "outputs": []
    },
    {
      "metadata": {
        "id": "bBgyuRvQxOv4",
        "colab_type": "code",
        "colab": {}
      },
      "cell_type": "code",
      "source": [
        "for key, val in image2caption.items():\n",
        "    f.write(key + \"\\t\" + \"<start> \" + val +\" <end>\" + \"\\n\")\n",
        "\n",
        "f.close()"
      ],
      "execution_count": 0,
      "outputs": []
    },
    {
      "metadata": {
        "id": "I7RhGllmxOzh",
        "colab_type": "code",
        "colab": {}
      },
      "cell_type": "code",
      "source": [
        "df = pd.read_csv('mscoco_training_dataset.txt', delimiter='\\t')"
      ],
      "execution_count": 0,
      "outputs": []
    },
    {
      "metadata": {
        "id": "mPBZHArUxO3d",
        "colab_type": "code",
        "colab": {}
      },
      "cell_type": "code",
      "source": [
        "df = df.dropna()\n",
        "df.head()\n",
        "len(df)"
      ],
      "execution_count": 0,
      "outputs": []
    },
    {
      "metadata": {
        "id": "ITMaFco3zIVw",
        "colab_type": "code",
        "colab": {}
      },
      "cell_type": "code",
      "source": [
        "#files.download('mscoco_training_dataset.txt')"
      ],
      "execution_count": 0,
      "outputs": []
    },
    {
      "metadata": {
        "id": "_lIAYx3A0A15",
        "colab_type": "code",
        "colab": {}
      },
      "cell_type": "code",
      "source": [
        "\n",
        "c = [i for i in df['captions']]"
      ],
      "execution_count": 0,
      "outputs": []
    },
    {
      "metadata": {
        "id": "4z6ABBwp0JyK",
        "colab_type": "code",
        "colab": {}
      },
      "cell_type": "code",
      "source": [
        "imgs = [i for i in df['image_id']]"
      ],
      "execution_count": 0,
      "outputs": []
    },
    {
      "metadata": {
        "id": "GmQH6xRL0LEN",
        "colab_type": "code",
        "colab": {}
      },
      "cell_type": "code",
      "source": [
        "a = c[0]\n",
        "a, imgs[0]"
      ],
      "execution_count": 0,
      "outputs": []
    },
    {
      "metadata": {
        "id": "mzOr3uOu0U2R",
        "colab_type": "code",
        "colab": {}
      },
      "cell_type": "code",
      "source": [
        "for i in a.split():\n",
        "    print (i, \"=>\", word2idx[i])"
      ],
      "execution_count": 0,
      "outputs": []
    },
    {
      "metadata": {
        "id": "K8O-UVlS0XDB",
        "colab_type": "code",
        "colab": {}
      },
      "cell_type": "code",
      "source": [
        "samples_per_epoch = 0\n",
        "for ca in c:\n",
        "    samples_per_epoch = samples_per_epoch + len(ca.split())-1"
      ],
      "execution_count": 0,
      "outputs": []
    },
    {
      "metadata": {
        "id": "BMjeq1Zy0ZQH",
        "colab_type": "code",
        "colab": {}
      },
      "cell_type": "code",
      "source": [
        "samples_per_epoch"
      ],
      "execution_count": 0,
      "outputs": []
    },
    {
      "metadata": {
        "id": "2GpmXmGS0atG",
        "colab_type": "code",
        "colab": {}
      },
      "cell_type": "code",
      "source": [
        "def data_generator(df, batch_size=32):\n",
        "    # Shuffling the dataframe before creating batches\n",
        "#     df = df.sample(frac=1)\n",
        "#     c = [i for i in df['captions']]\n",
        "#     imgs = [i for i in df['image_id']]\n",
        "    \n",
        "    partial_caps = []\n",
        "    images = []\n",
        "    next_words = []\n",
        "    count = 0\n",
        "    for i, text in enumerate(c[:1000]):\n",
        "        current_image = encoding_train[imgs[i]]\n",
        "        for j in range(len(text.split())-1):\n",
        "            count+=1\n",
        "            if text.split()[j] in word2idx:\n",
        "                partial = [word2idx[text.split()[j]]]\n",
        "            else:\n",
        "                partial = [word2idx['<unk>']]\n",
        "            partial_caps.append(partial)\n",
        "            # Initializing with zeros to create a one-hot encoding matrix\n",
        "            # This is what we have to predict\n",
        "            # Hence initializing it with vocab_size length\n",
        "            next = np.zeros(vocab_size)\n",
        "            # Setting the next word to 1\n",
        "            if text.split()[j+1] in word2idx:\n",
        "                next[word2idx[text.split()[j+1]]] = 1\n",
        "            else:\n",
        "                next[word2idx['<unk>']] = 1\n",
        "            next_words.append(next)\n",
        "            images.append(current_image)\n",
        "            \n",
        "            if count >= batch_size:\n",
        "                images = np.array(images)\n",
        "                next_words = np.array(next_words)\n",
        "                partial_caps = sequence.pad_sequences(partial_caps, maxlen=max_len, padding='post')\n",
        "                yield [[images, partial_caps], next_words]\n",
        "                partial_caps = []\n",
        "                images = []\n",
        "                next_words = []\n",
        "                count = 0\n",
        "    \n",
        "    partial_caps = sequence.pad_sequences(partial_caps, maxlen=max_len, padding='post')\n",
        "    return np.array(partial_caps)"
      ],
      "execution_count": 0,
      "outputs": []
    },
    {
      "metadata": {
        "id": "MHf5Ql8w0dOF",
        "colab_type": "code",
        "colab": {}
      },
      "cell_type": "code",
      "source": [
        "for i, val in enumerate(data_generator(df)):\n",
        "    if i==0:\n",
        "        print (val)\n",
        "\n",
        "\n",
        "partial_caps = []\n",
        "next_words = []\n",
        "images = []\n",
        "\n",
        "partial_caps = data_generator([partial_caps, next_words, images],32)"
      ],
      "execution_count": 0,
      "outputs": []
    },
    {
      "metadata": {
        "id": "h1F1FOY10fX8",
        "colab_type": "code",
        "colab": {}
      },
      "cell_type": "code",
      "source": [
        "#partial_caps.shape"
      ],
      "execution_count": 0,
      "outputs": []
    },
    {
      "metadata": {
        "id": "9PTOnr3E0hXj",
        "colab_type": "code",
        "colab": {}
      },
      "cell_type": "code",
      "source": [
        "embedding_size = 300"
      ],
      "execution_count": 0,
      "outputs": []
    },
    {
      "metadata": {
        "id": "J310odLE1gI4",
        "colab_type": "code",
        "colab": {}
      },
      "cell_type": "code",
      "source": [
        "image_model = Sequential([\n",
        "        Dense(embedding_size, input_shape=(2048,), activation='relu'),\n",
        "        RepeatVector(1)\n",
        "    ])"
      ],
      "execution_count": 0,
      "outputs": []
    },
    {
      "metadata": {
        "id": "dpglHJCR1gMN",
        "colab_type": "code",
        "colab": {}
      },
      "cell_type": "code",
      "source": [
        "caption_model = Sequential([\n",
        "        Embedding(vocab_size, embedding_size, input_length=max_len),\n",
        "        LSTM(256, return_sequences=True),\n",
        "        TimeDistributed(Dense(300))\n",
        "    ])"
      ],
      "execution_count": 0,
      "outputs": []
    },
    {
      "metadata": {
        "id": "C4jHIiC81juk",
        "colab_type": "code",
        "colab": {}
      },
      "cell_type": "code",
      "source": [
        "final_model = Sequential([\n",
        "        Merge([image_model, caption_model], mode='concat', concat_axis=1),\n",
        "        Bidirectional(LSTM(256, return_sequences=False)),\n",
        "        Dense(vocab_size),\n",
        "        Activation('softmax')\n",
        "    ])"
      ],
      "execution_count": 0,
      "outputs": []
    },
    {
      "metadata": {
        "id": "1Cujr_fj1lPS",
        "colab_type": "code",
        "colab": {}
      },
      "cell_type": "code",
      "source": [
        "final_model.compile(loss='categorical_crossentropy', optimizer=RMSprop(), metrics=['accuracy'])"
      ],
      "execution_count": 0,
      "outputs": []
    },
    {
      "metadata": {
        "id": "L0jjEI-WX4gZ",
        "colab_type": "text"
      },
      "cell_type": "markdown",
      "source": [
        ""
      ]
    },
    {
      "metadata": {
        "id": "7D9CIG-N1oau",
        "colab_type": "code",
        "colab": {}
      },
      "cell_type": "code",
      "source": [
        "final_model.fit_generator(data_generator(df, batch_size=128), nb_epoch=1, steps_per_epoch=948248,verbose=2)"
      ],
      "execution_count": 0,
      "outputs": []
    },
    {
      "metadata": {
        "id": "3JZpTuKC1qy3",
        "colab_type": "code",
        "colab": {}
      },
      "cell_type": "code",
      "source": [
        ""
      ],
      "execution_count": 0,
      "outputs": []
    },
    {
      "metadata": {
        "id": "PQ9zkyDk11hX",
        "colab_type": "code",
        "colab": {}
      },
      "cell_type": "code",
      "source": [
        ""
      ],
      "execution_count": 0,
      "outputs": []
    }
  ]
}
